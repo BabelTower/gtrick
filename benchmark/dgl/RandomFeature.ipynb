{
 "cells": [
  {
   "cell_type": "markdown",
   "metadata": {},
   "source": [
    "## Random Feature Example (DGL)"
   ]
  },
  {
   "cell_type": "code",
   "execution_count": null,
   "metadata": {},
   "outputs": [],
   "source": [
    "import argparse\n",
    "from ogb.graphproppred import DglGraphPropPredDataset\n",
    "from graph_pred import run_graph_pred\n",
    "\n",
    "import torch.nn as nn\n",
    "import torch.nn.functional as F\n",
    "\n",
    "from dgl.nn import AvgPooling\n",
    "from ogb.graphproppred.mol_encoder import AtomEncoder\n",
    "\n",
    "from model import EGINConv, EGCNConv\n",
    "\n",
    "from utils import seed_everything"
   ]
  },
  {
   "cell_type": "code",
   "execution_count": null,
   "metadata": {},
   "outputs": [],
   "source": [
    "# import random feature\n",
    "from gtrick import random_feature"
   ]
  },
  {
   "cell_type": "markdown",
   "metadata": {},
   "source": [
    "### Define a model"
   ]
  },
  {
   "cell_type": "code",
   "execution_count": null,
   "metadata": {},
   "outputs": [],
   "source": [
    "class EGNN(nn.Module):\n",
    "\n",
    "    def __init__(self, hidden_channels, out_channels, num_layers,\n",
    "                 dropout, conv_type):\n",
    "\n",
    "        super(EGNN, self).__init__()\n",
    "\n",
    "     \n",
    "        self.node_encoder = AtomEncoder(hidden_channels)\n",
    "\n",
    "        self.convs = nn.ModuleList()\n",
    "        self.bns = nn.ModuleList()\n",
    "\n",
    "        # the dim of hidden state plus 1\n",
    "        hidden_channels += 1\n",
    "\n",
    "        for i in range(num_layers):\n",
    "            if conv_type == 'gin':\n",
    "                self.convs.append(\n",
    "                    EGINConv(hidden_channels, self.mol))\n",
    "            elif conv_type == 'gcn':\n",
    "                self.convs.append(\n",
    "                    EGCNConv(hidden_channels, self.mol))\n",
    "\n",
    "            self.bns.append(nn.BatchNorm1d(hidden_channels))\n",
    "\n",
    "        self.dropout = dropout\n",
    "\n",
    "        self.pool = AvgPooling()\n",
    "\n",
    "        self.out = nn.Linear(hidden_channels, out_channels)\n",
    "\n",
    "    def reset_parameters(self):\n",
    "        for emb in self.node_encoder.atom_embedding_list:\n",
    "            nn.init.xavier_uniform_(emb.weight.data)\n",
    "        \n",
    "\n",
    "        num_layers = len(self.convs)\n",
    "        for i in range(num_layers):\n",
    "            self.convs[i].reset_parameters()\n",
    "            self.bns[i].reset_parameters()\n",
    "\n",
    "        self.out.reset_parameters()\n",
    "\n",
    "    def forward(self, g, x, ex):\n",
    "        h = self.node_encoder(x)\n",
    "\n",
    "        # use random_feature to add a random feature (batch_size x 1) to h\n",
    "        h = random_feature(h)\n",
    "\n",
    "        for i, conv in enumerate(self.convs[:-1]):\n",
    "            h = conv(g, h, ex)\n",
    "            h = self.bns[i](h)\n",
    "            h = F.relu(h)\n",
    "            h = F.dropout(h, p=self.dropout, training=self.training)\n",
    "\n",
    "        h = self.convs[-1](g, h, ex)\n",
    "        \n",
    "        if not self.mol:\n",
    "            h = self.bns[-1](h)\n",
    "        \n",
    "        h = F.dropout(h, self.dropout, training = self.training)\n",
    "\n",
    "        h = self.pool(g, h)\n",
    "\n",
    "        h = self.out(h)\n",
    "\n",
    "        return h"
   ]
  },
  {
   "cell_type": "markdown",
   "metadata": {},
   "source": [
    "### Run Experiment"
   ]
  },
  {
   "cell_type": "code",
   "execution_count": null,
   "metadata": {},
   "outputs": [],
   "source": [
    "parser = argparse.ArgumentParser(\n",
    "    description='train graph property prediction')\n",
    "parser.add_argument('--dataset', type=str, default='ogbg-molhiv',\n",
    "                    choices=['ogbg-molhiv', 'ogbg-ppa'])\n",
    "parser.add_argument('--dataset_path', type=str, default='/dev/dataset',\n",
    "                    help='path to dataset')\n",
    "parser.add_argument('--device', type=int, default=0)\n",
    "parser.add_argument('--log_steps', type=int, default=1)\n",
    "parser.add_argument('--num_layers', type=int, default=5)\n",
    "parser.add_argument('--hidden_channels', type=int, default=300)\n",
    "parser.add_argument('--dropout', type=float, default=0.5)\n",
    "parser.add_argument('--lr', type=float, default=0.001)\n",
    "parser.add_argument('--batch_size', type=int, default=32,\n",
    "                    help='batch size')\n",
    "parser.add_argument('--num_workers', type=int, default=0,\n",
    "                    help='number of workers (default: 0)')\n",
    "parser.add_argument('--model', type=str, default='gin')\n",
    "parser.add_argument('--epochs', type=int, default=500)\n",
    "parser.add_argument('--runs', type=int, default=3)\n",
    "parser.add_argument('--patience', type=int, default=30)\n",
    "args = parser.parse_args(args=[])\n",
    "print(args)\n",
    "\n",
    "seed_everything(3042)"
   ]
  },
  {
   "cell_type": "code",
   "execution_count": null,
   "metadata": {},
   "outputs": [],
   "source": [
    "dataset = DglGraphPropPredDataset(\n",
    "    name=args.dataset, root=args.dataset_path)\n",
    "\n",
    "model = EGNN(args.hidden_channels,\n",
    "                dataset.num_tasks, args.num_layers,\n",
    "                args.dropout, args.model)"
   ]
  },
  {
   "cell_type": "code",
   "execution_count": null,
   "metadata": {},
   "outputs": [],
   "source": [
    "run_graph_pred(args, model, dataset)"
   ]
  }
 ],
 "metadata": {
  "language_info": {
   "name": "python"
  },
  "orig_nbformat": 4
 },
 "nbformat": 4,
 "nbformat_minor": 2
}
