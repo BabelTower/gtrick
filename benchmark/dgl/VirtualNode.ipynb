{
 "cells": [
  {
   "cell_type": "markdown",
   "id": "9d8604d5-a7b1-4ef7-8be8-507c42bf4154",
   "metadata": {},
   "source": [
    "## Virtual Node Example"
   ]
  },
  {
   "cell_type": "markdown",
   "id": "ab3dd750-2e45-4f8c-b8f2-161a4ebefaec",
   "metadata": {},
   "source": [
    "### Define a model"
   ]
  },
  {
   "cell_type": "code",
   "execution_count": null,
   "id": "04206794-d6e0-4348-8b80-86908c5b07c6",
   "metadata": {},
   "outputs": [],
   "source": [
    "import sys \n",
    "sys.path.append('../..')"
   ]
  },
  {
   "cell_type": "code",
   "execution_count": null,
   "id": "a7ff78a3-45f9-42c7-a09a-92eae85f3f65",
   "metadata": {},
   "outputs": [],
   "source": [
    "import torch.nn as nn\n",
    "import torch.nn.functional as F\n",
    "\n",
    "from dgl.nn import AvgPooling\n",
    "from ogb.graphproppred.mol_encoder import AtomEncoder\n",
    "\n",
    "from model import EGINConv, EGCNConv\n",
    "\n",
    "from gtrick.dgl import VirtualNode"
   ]
  },
  {
   "cell_type": "code",
   "execution_count": null,
   "id": "f752a739-98a6-4cda-a00c-ee1cf99de726",
   "metadata": {},
   "outputs": [],
   "source": [
    "class EGNN(nn.Module):\n",
    "\n",
    "    def __init__(self, hidden_channels, out_channels, num_layers,\n",
    "                 dropout, conv_type):\n",
    "\n",
    "        super(EGNN, self).__init__()\n",
    "\n",
    "        self.node_encoder = AtomEncoder(hidden_channels)\n",
    "\n",
    "        self.convs = nn.ModuleList()\n",
    "        self.bns = nn.ModuleList()\n",
    "        self.vns = nn.ModuleList()\n",
    "\n",
    "        for i in range(num_layers):\n",
    "            if conv_type == 'gin':\n",
    "                self.convs.append(\n",
    "                    EGINConv(hidden_channels))\n",
    "            elif conv_type == 'gcn':\n",
    "                self.convs.append(\n",
    "                    EGCNConv(hidden_channels))\n",
    "\n",
    "            if i != num_layers - 1:\n",
    "                self.bns.append(nn.BatchNorm1d(hidden_channels))\n",
    "                self.vns.append(VirtualNode(hidden_channels, hidden_channels, dropout=dropout))\n",
    "\n",
    "        self.dropout = dropout\n",
    "\n",
    "        self.pool = AvgPooling()\n",
    "\n",
    "        self.out = nn.Linear(hidden_channels, out_channels)\n",
    "\n",
    "    def reset_parameters(self):\n",
    "        for emb in self.node_encoder.atom_embedding_list:\n",
    "            nn.init.xavier_uniform_(emb.weight.data)\n",
    "\n",
    "        num_layers = len(self.convs)\n",
    "        for i in range(num_layers):\n",
    "            self.convs[i].reset_parameters()\n",
    "            if i != num_layers - 1:\n",
    "                self.bns[i].reset_parameters()\n",
    "                self.vns[i].reset_parameters()\n",
    "\n",
    "        self.out.reset_parameters()\n",
    "\n",
    "    def forward(self, g, x, ex):\n",
    "        h = self.node_encoder(x)\n",
    "\n",
    "        vx = None\n",
    "\n",
    "        for i, conv in enumerate(self.convs[:-1]):\n",
    "            h, vx = self.vns[i].update_node_emb(g, h, vx)\n",
    "\n",
    "            h = conv(g, h, ex)\n",
    "            h = self.bns[i](h)\n",
    "            h = F.relu(h)\n",
    "            h = F.dropout(h, p=self.dropout, training=self.training)\n",
    "            \n",
    "            vx = self.vns[i].update_vn_emb(g, h, vx)\n",
    "\n",
    "        h = self.convs[-1](g, h, ex)\n",
    "        h = F.dropout(h, self.dropout, training = self.training)\n",
    "\n",
    "        h = self.pool(g, h)\n",
    "\n",
    "        h = self.out(h)\n",
    "\n",
    "        return h"
   ]
  },
  {
   "cell_type": "markdown",
   "id": "b08c7648-41a8-450d-8c72-f3f453e47c40",
   "metadata": {},
   "source": [
    "### Graph Property Prediction"
   ]
  },
  {
   "cell_type": "code",
   "execution_count": null,
   "id": "ad962da5-c1c8-48fc-92e5-402d4f07855d",
   "metadata": {},
   "outputs": [],
   "source": [
    "import argparse\n",
    "from ogb.graphproppred import DglGraphPropPredDataset\n",
    "from graph_pred import run_graph_pred"
   ]
  },
  {
   "cell_type": "code",
   "execution_count": null,
   "id": "715de877-e18d-45e2-abe6-fc6b48fac99c",
   "metadata": {},
   "outputs": [],
   "source": [
    "!nvidia-smi"
   ]
  },
  {
   "cell_type": "code",
   "execution_count": null,
   "id": "789c49d4-e15d-4cf7-85a1-2c01ebd326ef",
   "metadata": {},
   "outputs": [],
   "source": [
    "parser = argparse.ArgumentParser(\n",
    "    description='train graph property prediction')\n",
    "parser.add_argument('--dataset', type=str, default='ogbg-molhiv',\n",
    "                    choices=['ogbg-molhiv'])\n",
    "parser.add_argument('--dataset_path', type=str, default='/home/ubuntu/.dgl_dataset',\n",
    "                    help='path to dataset')\n",
    "parser.add_argument('--device', type=int, default=0)\n",
    "parser.add_argument('--log_steps', type=int, default=1)\n",
    "parser.add_argument('--num_layers', type=int, default=5)\n",
    "parser.add_argument('--hidden_channels', type=int, default=300)\n",
    "parser.add_argument('--dropout', type=float, default=0.5)\n",
    "parser.add_argument('--lr', type=float, default=0.001)\n",
    "parser.add_argument('--batch_size', type=int, default=32,\n",
    "                    help='batch size')\n",
    "parser.add_argument('--num_workers', type=int, default=0,\n",
    "                    help='number of workers (default: 0)')\n",
    "parser.add_argument('--model', type=str, default='gin')\n",
    "parser.add_argument('--epochs', type=int, default=500)\n",
    "parser.add_argument('--runs', type=int, default=5)\n",
    "parser.add_argument('--patience', type=int, default=30)\n",
    "args = parser.parse_args(args=[])\n",
    "print(args)"
   ]
  },
  {
   "cell_type": "code",
   "execution_count": null,
   "id": "357581df-8ec5-4c26-8062-6ebec02cdc85",
   "metadata": {},
   "outputs": [],
   "source": [
    "dataset = DglGraphPropPredDataset(\n",
    "    name=args.dataset, root=args.dataset_path)\n",
    "\n",
    "model = EGNN(args.hidden_channels,\n",
    "                dataset.num_tasks, args.num_layers,\n",
    "                args.dropout, args.model)"
   ]
  },
  {
   "cell_type": "code",
   "execution_count": null,
   "id": "ddc38834-fe68-4c01-b1ee-8957cd4831bd",
   "metadata": {
    "scrolled": true,
    "tags": []
   },
   "outputs": [],
   "source": [
    "run_graph_pred(args, model, dataset)"
   ]
  },
  {
   "cell_type": "code",
   "execution_count": null,
   "id": "34380013-d960-4e3f-a179-566f3c6363ff",
   "metadata": {},
   "outputs": [],
   "source": []
  }
 ],
 "metadata": {
  "kernelspec": {
   "display_name": "gtrick",
   "language": "python",
   "name": "gtrick"
  },
  "language_info": {
   "codemirror_mode": {
    "name": "ipython",
    "version": 3
   },
   "file_extension": ".py",
   "mimetype": "text/x-python",
   "name": "python",
   "nbconvert_exporter": "python",
   "pygments_lexer": "ipython3",
   "version": "3.8.13"
  }
 },
 "nbformat": 4,
 "nbformat_minor": 5
}
